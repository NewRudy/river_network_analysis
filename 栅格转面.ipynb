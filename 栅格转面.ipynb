{
 "cells": [
  {
   "cell_type": "code",
   "execution_count": 1,
   "metadata": {},
   "outputs": [],
   "source": [
    "import rasterio, os, shutil, sys\n",
    "import numpy as np\n",
    "import matplotlib.pyplot as plt\n",
    "from osgeo import gdal, ogr, osr\n",
    "\n",
    "# 绘图\n",
    "def draw(self):\n",
    "    if self.nodata is not None:\n",
    "        no_data_value = self.nodata\n",
    "    else:\n",
    "        no_data_value = np.copy(self.dem_array[0, 0])\n",
    "    self.dem_array[self.dem_array == no_data_value] = 0\n",
    "    plt.figure(figsize=(7, 7))\n",
    "    plt.imshow(self.dem_array, cmap='terrain')\n",
    "    plt.show()\n",
    "\n",
    "# 栅格转矢量\n",
    "def polygonize_raster(self, inputfile, dst_filename):\n",
    "    # 输入栅格\n",
    "    inraster = gdal.Open(inputfile)\n",
    "    inband = inraster.GetRasterBand(1)\n",
    "    maskband=inband.GetMaskBand()\n",
    "    prj = osr.SpatialReference()\n",
    "    prj.ImportFromWkt(inraster.GetProjection())\n",
    "    # 输出矢量参数设置\n",
    "    drv = ogr.GetDriverByName('ESRI Shapefile')\n",
    "    if os.path.exists(dst_filename):\n",
    "        drv.DeleteDataSource(dst_filename)\n",
    "    dst_ds = drv.CreateDataSource(dst_filename)\n",
    "    dst_layer = dst_ds.CreateLayer('out', srs=prj, geom_type=ogr.wkbMultiPolygon)\n",
    "    dst_fieldname = 'value'\n",
    "    fd = ogr.FieldDefn(dst_fieldname, ogr.OFTInteger)\n",
    "    dst_layer.CreateField(fd)\n",
    "    dst_field = 0\n",
    "    options=[]\n",
    "    # Polygonize 函数：输入栅格图像波段\\掩码图像波段、矢量化后的矢量图层、需要将DN值写入矢量字段的索引、算法选项、进度条回调函数、进度条参数\n",
    "    gdal.Polygonize(inband, maskband, dst_layer,dst_field, options)"
   ]
  }
 ],
 "metadata": {
  "kernelspec": {
   "display_name": "base",
   "language": "python",
   "name": "python3"
  },
  "language_info": {
   "codemirror_mode": {
    "name": "ipython",
    "version": 3
   },
   "file_extension": ".py",
   "mimetype": "text/x-python",
   "name": "python",
   "nbconvert_exporter": "python",
   "pygments_lexer": "ipython3",
   "version": "3.11.3"
  }
 },
 "nbformat": 4,
 "nbformat_minor": 2
}
